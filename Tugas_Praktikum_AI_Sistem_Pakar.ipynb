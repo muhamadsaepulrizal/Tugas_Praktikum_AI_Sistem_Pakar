{
  "nbformat": 4,
  "nbformat_minor": 0,
  "metadata": {
    "colab": {
      "provenance": [],
      "authorship_tag": "ABX9TyMOIDL3tjO68nOZ23Mj/vdC",
      "include_colab_link": true
    },
    "kernelspec": {
      "name": "python3",
      "display_name": "Python 3"
    },
    "language_info": {
      "name": "python"
    }
  },
  "cells": [
    {
      "cell_type": "markdown",
      "metadata": {
        "id": "view-in-github",
        "colab_type": "text"
      },
      "source": [
        "<a href=\"https://colab.research.google.com/github/muhamadsaepulrizal/Tugas_Praktikum_AI_Sistem_Pakar/blob/main/Tugas_Praktikum_AI_Sistem_Pakar.ipynb\" target=\"_parent\"><img src=\"https://colab.research.google.com/assets/colab-badge.svg\" alt=\"Open In Colab\"/></a>"
      ]
    },
    {
      "cell_type": "code",
      "execution_count": 2,
      "metadata": {
        "colab": {
          "base_uri": "https://localhost:8080/"
        },
        "id": "fwaZZIkwZerw",
        "outputId": "84f6f7db-79ef-4bd2-a3a8-31ed881069f9"
      },
      "outputs": [
        {
          "output_type": "stream",
          "name": "stdout",
          "text": [
            "Collecting experta\n",
            "  Downloading experta-1.9.4-py3-none-any.whl.metadata (5.0 kB)\n",
            "Collecting frozendict==1.2 (from experta)\n",
            "  Downloading frozendict-1.2.tar.gz (2.6 kB)\n",
            "  Preparing metadata (setup.py) ... \u001b[?25l\u001b[?25hdone\n",
            "Collecting schema==0.6.7 (from experta)\n",
            "  Downloading schema-0.6.7-py2.py3-none-any.whl.metadata (14 kB)\n",
            "Downloading experta-1.9.4-py3-none-any.whl (35 kB)\n",
            "Downloading schema-0.6.7-py2.py3-none-any.whl (14 kB)\n",
            "Building wheels for collected packages: frozendict\n",
            "  Building wheel for frozendict (setup.py) ... \u001b[?25l\u001b[?25hdone\n",
            "  Created wheel for frozendict: filename=frozendict-1.2-py3-none-any.whl size=3149 sha256=86c815287152879ccde480297ad0fe4602bff470907b26428728f066331ce0f0\n",
            "  Stored in directory: /root/.cache/pip/wheels/49/ac/f8/cb8120244e710bdb479c86198b03c7b08c3c2d3d2bf448fd6e\n",
            "Successfully built frozendict\n",
            "Installing collected packages: schema, frozendict, experta\n",
            "  Attempting uninstall: frozendict\n",
            "    Found existing installation: frozendict 2.4.6\n",
            "    Uninstalling frozendict-2.4.6:\n",
            "      Successfully uninstalled frozendict-2.4.6\n",
            "\u001b[31mERROR: pip's dependency resolver does not currently take into account all the packages that are installed. This behaviour is the source of the following dependency conflicts.\n",
            "yfinance 0.2.55 requires frozendict>=2.3.4, but you have frozendict 1.2 which is incompatible.\u001b[0m\u001b[31m\n",
            "\u001b[0mSuccessfully installed experta-1.9.4 frozendict-1.2 schema-0.6.7\n"
          ]
        }
      ],
      "source": [
        "!pip install experta"
      ]
    },
    {
      "cell_type": "code",
      "source": [
        "!pip install --upgrade frozendict"
      ],
      "metadata": {
        "colab": {
          "base_uri": "https://localhost:8080/"
        },
        "id": "tSnJbBreZ2-q",
        "outputId": "32a2f260-c372-4fb0-abf0-ec3cfe4873a0"
      },
      "execution_count": 3,
      "outputs": [
        {
          "output_type": "stream",
          "name": "stdout",
          "text": [
            "Requirement already satisfied: frozendict in /usr/local/lib/python3.11/dist-packages (1.2)\n",
            "Collecting frozendict\n",
            "  Downloading frozendict-2.4.6-py311-none-any.whl.metadata (23 kB)\n",
            "Downloading frozendict-2.4.6-py311-none-any.whl (16 kB)\n",
            "Installing collected packages: frozendict\n",
            "  Attempting uninstall: frozendict\n",
            "    Found existing installation: frozendict 1.2\n",
            "    Uninstalling frozendict-1.2:\n",
            "      Successfully uninstalled frozendict-1.2\n",
            "\u001b[31mERROR: pip's dependency resolver does not currently take into account all the packages that are installed. This behaviour is the source of the following dependency conflicts.\n",
            "experta 1.9.4 requires frozendict==1.2, but you have frozendict 2.4.6 which is incompatible.\u001b[0m\u001b[31m\n",
            "\u001b[0mSuccessfully installed frozendict-2.4.6\n"
          ]
        }
      ]
    },
    {
      "cell_type": "markdown",
      "source": [
        "code sistem pakar (tambah 4 penyakit baru)"
      ],
      "metadata": {
        "id": "_ZoogLtgjWnk"
      }
    },
    {
      "cell_type": "code",
      "source": [
        "from experta import *\n",
        "\n",
        "class Diagnosis(KnowledgeEngine):\n",
        "    @Rule(Fact(cough=True) & Fact(fever=True) & Fact(fatigue=True))\n",
        "    def flu(self):\n",
        "        print(\"Diagnosis: You may have the flu.\")\n",
        "\n",
        "    @Rule(Fact(cough=True) & Fact(fever=True) & Fact(breathing_difficulty=True))\n",
        "    def pneumonia(self):\n",
        "        print(\"Diagnosis: You may have pneumonia\")\n",
        "\n",
        "    @Rule(Fact(sneezing=True) & Fact(runny_nose=True) & Fact(cough=True))\n",
        "    def cold(self):\n",
        "        print(\"Diagnosis: You may have common cold\")\n",
        "\n",
        "    @Rule(Fact(sore_throat=True) & Fact(fever=True))\n",
        "    def throat_infection(self):\n",
        "        print(\"Diagnosis: You may have throat infection\")\n",
        "\n",
        "    @Rule(\n",
        "    Fact(cough=False) &\n",
        "    Fact(fever=False) &\n",
        "    Fact(fatigue=False) &\n",
        "    Fact(breathing_difficulty=False) &\n",
        "    Fact(sneezing=False) &\n",
        "    Fact(runny_nose=False) &\n",
        "    Fact(sore_throat=False) &\n",
        "    Fact(loss_of_taste_smell=False) &\n",
        "    Fact(itchy_eyes=False) &\n",
        "    Fact(wheezing=False) &\n",
        "    Fact(chest_tightness=False) &\n",
        "    Fact(headache=False) &\n",
        "    Fact(nausea=False) &\n",
        "    Fact(sensitivity_to_light=False))\n",
        "    def healthy(self):\n",
        "      print(\"Diagnosis: You seem to be healthy\")\n",
        "\n",
        "    #Tugas Tambah 4 diagnosa penyakit\n",
        "    @Rule(Fact(cough=True) & Fact(fever=True) & Fact(breathing_difficulty=True) & Fact(loss_of_taste_smell=True))\n",
        "    def covid19(self):\n",
        "        print(\"Diagnosis: You may have COVID-19\")\n",
        "\n",
        "    @Rule(Fact(sneezing=True) & Fact(runny_nose=True) & Fact(itchy_eyes=True))\n",
        "    def allergy(self):\n",
        "        print(\"Diagnosis: You may have allergies\")\n",
        "\n",
        "    @Rule(Fact(breathing_difficulty=True) & Fact(wheezing=True) & Fact(chest_tightness=True))\n",
        "    def asthma(self):\n",
        "        print(\"Diagnosis: You may have asthma\")\n",
        "\n",
        "    @Rule(Fact(headache=True) & Fact(nausea=True) & Fact(sensitivity_to_light=True))\n",
        "    def migraine(self):\n",
        "        print(\"Diagnosis: You may have migraine\")\n",
        "\n",
        "def get_input():\n",
        "    \"\"\"Helper function to get user input as boolean (yes/no).\"\"\"\n",
        "    def ask_question(question):\n",
        "        return input(question + \" (yes/no): \").strip().lower() == \"yes\"\n",
        "\n",
        "    return {\n",
        "        \"cough\": ask_question(\"Do you have a cough?\"),\n",
        "        \"fever\": ask_question(\"Do you have a fever?\"),\n",
        "        \"fatigue\": ask_question(\"Do you feel fatigue?\"),\n",
        "        \"breathing_difficulty\": ask_question(\"Do you have breathing difficulties?\"),\n",
        "        \"sneezing\": ask_question(\"Are you sneezing?\"),\n",
        "        \"runny_nose\": ask_question(\"Do you have a runny nose?\"),\n",
        "        \"sore_throat\": ask_question(\"Do you have a sore throat?\"),\n",
        "        #Tugas\n",
        "        \"loss_of_taste_smell\": ask_question(\"Have you lost your sense of taste or smell?\"),\n",
        "        \"itchy_eyes\": ask_question(\"Do you have itchy eyes?\"),\n",
        "        \"wheezing\": ask_question(\"Are you wheezing?\"),\n",
        "        \"chest_tightness\": ask_question(\"Do you feel chest tightness?\"),\n",
        "        \"headache\": ask_question(\"Do you have a headache?\"),\n",
        "        \"nausea\": ask_question(\"Are you feeling nauseous?\"),\n",
        "        \"sensitivity_to_light\": ask_question(\"Are you sensitive to light?\"),\n",
        "    }\n",
        "\n",
        "# Running the expert system\n",
        "if __name__ == \"__main__\":\n",
        "    symptoms = get_input()\n",
        "    engine = Diagnosis()\n",
        "    engine.reset()\n",
        "    for symptom, present in symptoms.items():\n",
        "        engine.declare(Fact(**{symptom: present}))\n",
        "    engine.run()\n"
      ],
      "metadata": {
        "colab": {
          "base_uri": "https://localhost:8080/"
        },
        "id": "VkVSgidYahrB",
        "outputId": "793ea4ce-3099-49bf-a687-69ea3334bdff"
      },
      "execution_count": 10,
      "outputs": [
        {
          "output_type": "stream",
          "name": "stdout",
          "text": [
            "Do you have a cough? (yes/no): no\n",
            "Do you have a fever? (yes/no): no\n",
            "Do you feel fatigue? (yes/no): no\n",
            "Do you have breathing difficulties? (yes/no): no\n",
            "Are you sneezing? (yes/no): no\n",
            "Do you have a runny nose? (yes/no): no\n",
            "Do you have a sore throat? (yes/no): no\n",
            "Have you lost your sense of taste or smell? (yes/no): no\n",
            "Do you have itchy eyes? (yes/no): no\n",
            "Are you wheezing? (yes/no): no\n",
            "Do you feel chest tightness? (yes/no): no\n",
            "Do you have a headache? (yes/no): yes\n",
            "Are you feeling nauseous? (yes/no): yes\n",
            "Are you sensitive to light? (yes/no): yes\n",
            "Diagnosis: You may have migraine\n"
          ]
        }
      ]
    },
    {
      "cell_type": "markdown",
      "source": [],
      "metadata": {
        "id": "4RcI2ehUl-Lc"
      }
    },
    {
      "cell_type": "code",
      "source": [
        "from experta import *\n",
        "\n",
        "class SistemPakarMedis(KnowledgeEngine):\n",
        "\n",
        "  @Rule(Fact(demam=True), Fact(batuk=True))\n",
        "  def flu(self):\n",
        "    print(\"Diagnosis: flu.\")\n",
        "\n",
        "  @Rule(Fact(sakit_tenggorokan=True), Fact(demam=True))\n",
        "  def throat_infection(self):\n",
        "    print(\"Diagnosis: radang tenggorokan\")\n",
        "\n",
        "  @Rule(Fact(nyeri_otot=True), Fact(nyeri_perut=True))\n",
        "  def hernia(self):\n",
        "    print(\"Diagnosis: hernia\")\n",
        "\n",
        "  @Rule(Fact(panas=True), Fact(tiris=True))\n",
        "  def panas_tiris(self):\n",
        "    print(\"Diagnosis: panas tiris\")\n",
        "\n",
        "#Tugas Tambah 4 diagnosa penyakit\n",
        "  @Rule(Fact(cough=True) & Fact(fever=True) & Fact(breathing_difficulty=True) & Fact(loss_of_taste_smell=True))\n",
        "  def covid19(self):\n",
        "    print(\"Diagnosis: You may have COVID-19\")\n",
        "  @Rule(Fact(sneezing=True) & Fact(runny_nose=True) & Fact(itchy_eyes=True))\n",
        "  def allergy(self):\n",
        "    print(\"Diagnosis: You may have allergies\")\n",
        "  @Rule(Fact(breathing_difficulty=True) & Fact(wheezing=True) & Fact(chest_tightness=True))\n",
        "  def asthma(self):\n",
        "    print(\"Diagnosis: You may have asthma\")\n",
        "  @Rule(Fact(headache=True) & Fact(nausea=True) & Fact(sensitivity_to_light=True))\n",
        "  def migraine(self):\n",
        "    print(\"Diagnosis: You may have migraine\")\n",
        "\n",
        "#running the expert system\n",
        "engine = SistemPakarMedis()\n",
        "engine.reset() #reste the knowldge engine\n",
        "engine.declare(Fact(cough=True))\n",
        "engine.declare(Fact(fever=True))\n",
        "engine.declare(Fact(breathing_difficulty=True))\n",
        "engine.declare(Fact(loss_of_taste_smell=True))#import symptoms\n",
        "engine.run() #run the inference engine"
      ],
      "metadata": {
        "colab": {
          "base_uri": "https://localhost:8080/"
        },
        "id": "Sl4VcreUl-bg",
        "outputId": "6ca11613-b2c3-4165-f868-f8adaead87b0"
      },
      "execution_count": 11,
      "outputs": [
        {
          "output_type": "stream",
          "name": "stdout",
          "text": [
            "Diagnosis: You may have COVID-19\n"
          ]
        }
      ]
    },
    {
      "cell_type": "code",
      "source": [
        "def forward_chaining(facts, rules):\n",
        "  inferred = set(facts)\n",
        "  changed = True\n",
        "\n",
        "  while changed:\n",
        "    changed = False\n",
        "    for rule in rules:\n",
        "      if rule[\"if\"].issubset(inferred) and rule[\"then\"] not in inferred:\n",
        "        inferred.add(rule[\"then\"])\n",
        "        changed = True\n",
        "\n",
        "  return inferred\n",
        "\n",
        "facts = {\"has_feathers\", \"has_beak\", \"carnivore\"}\n",
        "rules = [\n",
        "    {\"if\": {\"has_feathers\", \"has_beak\"}, \"then\": \"is_bird\"},\n",
        "    {\"if\": {\"lays_eggs\", \"is_bird\"}, \"then\": \"is_chicken\"},\n",
        "    {\"if\": {\"cannot_fly\", \"is_bird\"}, \"then\": \"is_penguin\"},\n",
        "    {\"if\": {\"carnivore\", \"is_bird\"}, \"then\": \"is_eagle\"}\n",
        "]\n",
        "\n",
        "result = forward_chaining(facts, rules)\n",
        "print(\"inferred facts: \", result)\n"
      ],
      "metadata": {
        "colab": {
          "base_uri": "https://localhost:8080/"
        },
        "id": "q7sgVJNIqMHT",
        "outputId": "4c050139-d3ba-4d0a-d62e-9264c2e08d90"
      },
      "execution_count": null,
      "outputs": [
        {
          "output_type": "stream",
          "name": "stdout",
          "text": [
            "inferred facts:  {'has_beak', 'carnivore', 'is_bird', 'has_feathers', 'is_eagle'}\n"
          ]
        }
      ]
    },
    {
      "cell_type": "code",
      "source": [
        "def backward_chaining(goal, facts, rules):\n",
        "  if goal in facts:\n",
        "     return True\n",
        "  for rule in rules:\n",
        "    if rule[\"then\"] == goal:\n",
        "      if all(backward_chaining(cond, facts, rules) for cond in rule[\"if\"]):\n",
        "        return True\n",
        "  return False\n",
        "\n",
        "facts = {\"likes_computers\", \"solves_problems\", \"likes_to_design\"}\n",
        "rules = [\n",
        "    {\"if\": {\"likes_computers\", \"solves_problems\"}, \"then\": \"should_be_engineer\"},\n",
        "    {\"if\": {\"should_be_engineer\", \"likes_programming\"}, \"then\": \"software_engineer\"},\n",
        "    {\"if\": {\"should_be_engineer\", \"likes_to_design\"}, \"then\": \"UI/UX_engineer\"},\n",
        "]\n",
        "\n",
        "goal = \"should_be_engineer\"\n",
        "result = backward_chaining(goal, facts, rules)\n",
        "print(f\"is '{goal}' provable? ->\", result)"
      ],
      "metadata": {
        "colab": {
          "base_uri": "https://localhost:8080/"
        },
        "id": "f6jy7ldwuB94",
        "outputId": "2b73f238-816d-4c36-e5e2-c898931abf27"
      },
      "execution_count": null,
      "outputs": [
        {
          "output_type": "stream",
          "name": "stdout",
          "text": [
            "is 'should_be_engineer' provable? -> True\n"
          ]
        }
      ]
    },
    {
      "cell_type": "code",
      "source": [
        "def forward_chaining(facts, rules):\n",
        "  inferred = set(facts)\n",
        "  changed = True\n",
        "\n",
        "  while changed:\n",
        "    changed = False\n",
        "    for rule in rules:\n",
        "      if rule[\"if\"].issubset(inferred) and rule[\"then\"] not in inferred:\n",
        "        inferred.add(rule[\"then\"])\n",
        "        changed = True\n",
        "\n",
        "  return inferred\n",
        "\n",
        "facts = {\"has_wheels\", \"has_engine\", \"has_four_wheels\"}\n",
        "rules = [\n",
        "    {\"if\": {\"has_wheels\", \"has_engine\"}, \"then\": \"is_vehicle\"},\n",
        "    {\"if\": {\"is_vehicle\", \"has_two_wheels\"}, \"then\": \"is_motorcycle\"},\n",
        "    {\"if\": {\"is_vehicle\", \"has_four_wheels\"}, \"then\": \"is_car\"},\n",
        "]\n",
        "\n",
        "result = forward_chaining(facts, rules)\n",
        "print(\"inferred facts: \", result)"
      ],
      "metadata": {
        "colab": {
          "base_uri": "https://localhost:8080/"
        },
        "id": "gXtDL9lgy1H_",
        "outputId": "6fa30829-98bf-4e4f-a43d-11a1d167e30b"
      },
      "execution_count": null,
      "outputs": [
        {
          "output_type": "stream",
          "name": "stdout",
          "text": [
            "inferred facts:  {'is_vehicle', 'has_four_wheels', 'has_wheels', 'is_car', 'has_engine'}\n"
          ]
        }
      ]
    },
    {
      "cell_type": "code",
      "source": [
        "def backward_chaining(goal, facts, rules):\n",
        "  if goal in facts:\n",
        "     return True\n",
        "  for rule in rules:\n",
        "    if rule[\"then\"] == goal:\n",
        "      if all(backward_chaining(cond, facts, rules) for cond in rule[\"if\"]):\n",
        "        return True\n",
        "  return False\n",
        "\n",
        "facts = {\"has_feather\", \"has_small_wings\"}\n",
        "rules = [\n",
        "    {\"if\": {\"is_bird\", \"cannot_fly\"}, \"then\": \"is_penguin\"},\n",
        "    {\"if\": {\"has_feather\"}, \"then\": \"is_bird\"},\n",
        "    {\"if\": {\"has_small_wings\"}, \"then\": \"cannot_fly\"},\n",
        "]\n",
        "\n",
        "goal = \"is_penguin\"\n",
        "result = backward_chaining(goal, facts, rules)\n",
        "print(f\"is '{goal}' provable? ->\", result)"
      ],
      "metadata": {
        "colab": {
          "base_uri": "https://localhost:8080/"
        },
        "id": "IROKkAw-0xqt",
        "outputId": "86a4218e-9efa-41bc-e0f7-76b92066f7a2"
      },
      "execution_count": null,
      "outputs": [
        {
          "output_type": "stream",
          "name": "stdout",
          "text": [
            "is 'is_penguin' provable? -> True\n"
          ]
        }
      ]
    }
  ]
}